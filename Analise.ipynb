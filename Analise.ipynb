{
 "cells": [
  {
   "cell_type": "code",
   "execution_count": 1,
   "metadata": {},
   "outputs": [],
   "source": [
    "import numpy   as np\n",
    "import pandas  as pd\n",
    "import seaborn as sea\n",
    "import plotly.express as px\n",
    "import matplotlib.pyplot as plt"
   ]
  },
  {
   "cell_type": "code",
   "execution_count": 2,
   "metadata": {},
   "outputs": [],
   "source": [
    "data = pd.read_csv(r'dataset/Fortune 500 Companies.csv',delimiter=',')"
   ]
  },
  {
   "cell_type": "code",
   "execution_count": 3,
   "metadata": {},
   "outputs": [
    {
     "data": {
      "text/html": [
       "<div>\n",
       "<style scoped>\n",
       "    .dataframe tbody tr th:only-of-type {\n",
       "        vertical-align: middle;\n",
       "    }\n",
       "\n",
       "    .dataframe tbody tr th {\n",
       "        vertical-align: top;\n",
       "    }\n",
       "\n",
       "    .dataframe thead th {\n",
       "        text-align: right;\n",
       "    }\n",
       "</style>\n",
       "<table border=\"1\" class=\"dataframe\">\n",
       "  <thead>\n",
       "    <tr style=\"text-align: right;\">\n",
       "      <th></th>\n",
       "      <th>name</th>\n",
       "      <th>rank</th>\n",
       "      <th>year</th>\n",
       "      <th>industry</th>\n",
       "      <th>sector</th>\n",
       "      <th>headquarters_state</th>\n",
       "      <th>headquarters_city</th>\n",
       "      <th>market_value_mil</th>\n",
       "      <th>revenue_mil</th>\n",
       "      <th>profit_mil</th>\n",
       "      <th>asset_mil</th>\n",
       "      <th>employees</th>\n",
       "      <th>founder_is_ceo</th>\n",
       "      <th>female_ceo</th>\n",
       "      <th>newcomer_to_fortune_500</th>\n",
       "      <th>global_500</th>\n",
       "    </tr>\n",
       "  </thead>\n",
       "  <tbody>\n",
       "    <tr>\n",
       "      <th>0</th>\n",
       "      <td>General Motors Corporation</td>\n",
       "      <td>1</td>\n",
       "      <td>1996</td>\n",
       "      <td>Motor Vehicles &amp; Parts</td>\n",
       "      <td>NaN</td>\n",
       "      <td>MI</td>\n",
       "      <td>NaN</td>\n",
       "      <td>NaN</td>\n",
       "      <td>168828.6</td>\n",
       "      <td>NaN</td>\n",
       "      <td>NaN</td>\n",
       "      <td>NaN</td>\n",
       "      <td>NaN</td>\n",
       "      <td>NaN</td>\n",
       "      <td>NaN</td>\n",
       "      <td>NaN</td>\n",
       "    </tr>\n",
       "    <tr>\n",
       "      <th>1</th>\n",
       "      <td>Ford Motor Company</td>\n",
       "      <td>2</td>\n",
       "      <td>1996</td>\n",
       "      <td>Motor Vehicles &amp; Parts</td>\n",
       "      <td>NaN</td>\n",
       "      <td>MI</td>\n",
       "      <td>NaN</td>\n",
       "      <td>NaN</td>\n",
       "      <td>137137.0</td>\n",
       "      <td>NaN</td>\n",
       "      <td>NaN</td>\n",
       "      <td>NaN</td>\n",
       "      <td>NaN</td>\n",
       "      <td>NaN</td>\n",
       "      <td>NaN</td>\n",
       "      <td>NaN</td>\n",
       "    </tr>\n",
       "    <tr>\n",
       "      <th>2</th>\n",
       "      <td>Exxon Corporation</td>\n",
       "      <td>3</td>\n",
       "      <td>1996</td>\n",
       "      <td>Petroleum Refining</td>\n",
       "      <td>NaN</td>\n",
       "      <td>TX</td>\n",
       "      <td>NaN</td>\n",
       "      <td>NaN</td>\n",
       "      <td>110009.0</td>\n",
       "      <td>NaN</td>\n",
       "      <td>NaN</td>\n",
       "      <td>NaN</td>\n",
       "      <td>NaN</td>\n",
       "      <td>NaN</td>\n",
       "      <td>NaN</td>\n",
       "      <td>NaN</td>\n",
       "    </tr>\n",
       "    <tr>\n",
       "      <th>3</th>\n",
       "      <td>Wal-Mart Stores, Inc.</td>\n",
       "      <td>4</td>\n",
       "      <td>1996</td>\n",
       "      <td>General Merchandisers</td>\n",
       "      <td>NaN</td>\n",
       "      <td>AR</td>\n",
       "      <td>NaN</td>\n",
       "      <td>NaN</td>\n",
       "      <td>93627.0</td>\n",
       "      <td>NaN</td>\n",
       "      <td>NaN</td>\n",
       "      <td>NaN</td>\n",
       "      <td>NaN</td>\n",
       "      <td>NaN</td>\n",
       "      <td>NaN</td>\n",
       "      <td>NaN</td>\n",
       "    </tr>\n",
       "    <tr>\n",
       "      <th>4</th>\n",
       "      <td>AT&amp;T Corp.</td>\n",
       "      <td>5</td>\n",
       "      <td>1996</td>\n",
       "      <td>Telecommunications</td>\n",
       "      <td>NaN</td>\n",
       "      <td>NY</td>\n",
       "      <td>NaN</td>\n",
       "      <td>NaN</td>\n",
       "      <td>79609.0</td>\n",
       "      <td>NaN</td>\n",
       "      <td>NaN</td>\n",
       "      <td>NaN</td>\n",
       "      <td>NaN</td>\n",
       "      <td>NaN</td>\n",
       "      <td>NaN</td>\n",
       "      <td>NaN</td>\n",
       "    </tr>\n",
       "  </tbody>\n",
       "</table>\n",
       "</div>"
      ],
      "text/plain": [
       "                         name  rank  year                industry sector  \\\n",
       "0  General Motors Corporation     1  1996  Motor Vehicles & Parts    NaN   \n",
       "1          Ford Motor Company     2  1996  Motor Vehicles & Parts    NaN   \n",
       "2           Exxon Corporation     3  1996      Petroleum Refining    NaN   \n",
       "3       Wal-Mart Stores, Inc.     4  1996   General Merchandisers    NaN   \n",
       "4                  AT&T Corp.     5  1996      Telecommunications    NaN   \n",
       "\n",
       "  headquarters_state headquarters_city  market_value_mil  revenue_mil  \\\n",
       "0                 MI               NaN               NaN     168828.6   \n",
       "1                 MI               NaN               NaN     137137.0   \n",
       "2                 TX               NaN               NaN     110009.0   \n",
       "3                 AR               NaN               NaN      93627.0   \n",
       "4                 NY               NaN               NaN      79609.0   \n",
       "\n",
       "   profit_mil  asset_mil  employees founder_is_ceo female_ceo  \\\n",
       "0         NaN        NaN        NaN            NaN        NaN   \n",
       "1         NaN        NaN        NaN            NaN        NaN   \n",
       "2         NaN        NaN        NaN            NaN        NaN   \n",
       "3         NaN        NaN        NaN            NaN        NaN   \n",
       "4         NaN        NaN        NaN            NaN        NaN   \n",
       "\n",
       "  newcomer_to_fortune_500 global_500  \n",
       "0                     NaN        NaN  \n",
       "1                     NaN        NaN  \n",
       "2                     NaN        NaN  \n",
       "3                     NaN        NaN  \n",
       "4                     NaN        NaN  "
      ]
     },
     "execution_count": 3,
     "metadata": {},
     "output_type": "execute_result"
    }
   ],
   "source": [
    "data.head(5)"
   ]
  },
  {
   "cell_type": "code",
   "execution_count": 4,
   "metadata": {},
   "outputs": [
    {
     "name": "stdout",
     "output_type": "stream",
     "text": [
      "<class 'pandas.core.frame.DataFrame'>\n",
      "RangeIndex: 13940 entries, 0 to 13939\n",
      "Data columns (total 16 columns):\n",
      " #   Column                   Non-Null Count  Dtype  \n",
      "---  ------                   --------------  -----  \n",
      " 0   name                     13940 non-null  object \n",
      " 1   rank                     13940 non-null  int64  \n",
      " 2   year                     13940 non-null  int64  \n",
      " 3   industry                 13940 non-null  object \n",
      " 4   sector                   4500 non-null   object \n",
      " 5   headquarters_state       13940 non-null  object \n",
      " 6   headquarters_city        7495 non-null   object \n",
      " 7   market_value_mil         5185 non-null   float64\n",
      " 8   revenue_mil              13940 non-null  float64\n",
      " 9   profit_mil               5497 non-null   float64\n",
      " 10  asset_mil                5500 non-null   float64\n",
      " 11  employees                4500 non-null   float64\n",
      " 12  founder_is_ceo           4500 non-null   object \n",
      " 13  female_ceo               4500 non-null   object \n",
      " 14  newcomer_to_fortune_500  4500 non-null   object \n",
      " 15  global_500               4000 non-null   object \n",
      "dtypes: float64(5), int64(2), object(9)\n",
      "memory usage: 1.7+ MB\n"
     ]
    }
   ],
   "source": [
    "data.info()"
   ]
  },
  {
   "cell_type": "markdown",
   "metadata": {},
   "source": [
    "# Alteracoes no conjunto de dado\n",
    "Mudando o valores `NaN` para nula para melhor seleção, remoção de dados"
   ]
  },
  {
   "cell_type": "code",
   "execution_count": 5,
   "metadata": {},
   "outputs": [
    {
     "name": "stderr",
     "output_type": "stream",
     "text": [
      "/tmp/ipykernel_33959/1026323354.py:2: SettingWithCopyWarning: \n",
      "A value is trying to be set on a copy of a slice from a DataFrame\n",
      "\n",
      "See the caveats in the documentation: https://pandas.pydata.org/pandas-docs/stable/user_guide/indexing.html#returning-a-view-versus-a-copy\n",
      "  data[NomeColuna].loc[data[NomeColuna].isnull()] = 'Nulo'\n",
      "/tmp/ipykernel_33959/1026323354.py:2: SettingWithCopyWarning: \n",
      "A value is trying to be set on a copy of a slice from a DataFrame\n",
      "\n",
      "See the caveats in the documentation: https://pandas.pydata.org/pandas-docs/stable/user_guide/indexing.html#returning-a-view-versus-a-copy\n",
      "  data[NomeColuna].loc[data[NomeColuna].isnull()] = 'Nulo'\n",
      "/tmp/ipykernel_33959/1026323354.py:2: SettingWithCopyWarning: \n",
      "A value is trying to be set on a copy of a slice from a DataFrame\n",
      "\n",
      "See the caveats in the documentation: https://pandas.pydata.org/pandas-docs/stable/user_guide/indexing.html#returning-a-view-versus-a-copy\n",
      "  data[NomeColuna].loc[data[NomeColuna].isnull()] = 'Nulo'\n",
      "/tmp/ipykernel_33959/1026323354.py:2: SettingWithCopyWarning: \n",
      "A value is trying to be set on a copy of a slice from a DataFrame\n",
      "\n",
      "See the caveats in the documentation: https://pandas.pydata.org/pandas-docs/stable/user_guide/indexing.html#returning-a-view-versus-a-copy\n",
      "  data[NomeColuna].loc[data[NomeColuna].isnull()] = 'Nulo'\n",
      "/tmp/ipykernel_33959/1026323354.py:2: SettingWithCopyWarning: \n",
      "A value is trying to be set on a copy of a slice from a DataFrame\n",
      "\n",
      "See the caveats in the documentation: https://pandas.pydata.org/pandas-docs/stable/user_guide/indexing.html#returning-a-view-versus-a-copy\n",
      "  data[NomeColuna].loc[data[NomeColuna].isnull()] = 'Nulo'\n",
      "/tmp/ipykernel_33959/1026323354.py:2: SettingWithCopyWarning: \n",
      "A value is trying to be set on a copy of a slice from a DataFrame\n",
      "\n",
      "See the caveats in the documentation: https://pandas.pydata.org/pandas-docs/stable/user_guide/indexing.html#returning-a-view-versus-a-copy\n",
      "  data[NomeColuna].loc[data[NomeColuna].isnull()] = 'Nulo'\n",
      "/tmp/ipykernel_33959/1026323354.py:2: SettingWithCopyWarning: \n",
      "A value is trying to be set on a copy of a slice from a DataFrame\n",
      "\n",
      "See the caveats in the documentation: https://pandas.pydata.org/pandas-docs/stable/user_guide/indexing.html#returning-a-view-versus-a-copy\n",
      "  data[NomeColuna].loc[data[NomeColuna].isnull()] = 'Nulo'\n",
      "/tmp/ipykernel_33959/1026323354.py:2: SettingWithCopyWarning: \n",
      "A value is trying to be set on a copy of a slice from a DataFrame\n",
      "\n",
      "See the caveats in the documentation: https://pandas.pydata.org/pandas-docs/stable/user_guide/indexing.html#returning-a-view-versus-a-copy\n",
      "  data[NomeColuna].loc[data[NomeColuna].isnull()] = 'Nulo'\n",
      "/tmp/ipykernel_33959/1026323354.py:2: SettingWithCopyWarning: \n",
      "A value is trying to be set on a copy of a slice from a DataFrame\n",
      "\n",
      "See the caveats in the documentation: https://pandas.pydata.org/pandas-docs/stable/user_guide/indexing.html#returning-a-view-versus-a-copy\n",
      "  data[NomeColuna].loc[data[NomeColuna].isnull()] = 'Nulo'\n",
      "/tmp/ipykernel_33959/1026323354.py:2: SettingWithCopyWarning: \n",
      "A value is trying to be set on a copy of a slice from a DataFrame\n",
      "\n",
      "See the caveats in the documentation: https://pandas.pydata.org/pandas-docs/stable/user_guide/indexing.html#returning-a-view-versus-a-copy\n",
      "  data[NomeColuna].loc[data[NomeColuna].isnull()] = 'Nulo'\n",
      "/tmp/ipykernel_33959/1026323354.py:2: SettingWithCopyWarning: \n",
      "A value is trying to be set on a copy of a slice from a DataFrame\n",
      "\n",
      "See the caveats in the documentation: https://pandas.pydata.org/pandas-docs/stable/user_guide/indexing.html#returning-a-view-versus-a-copy\n",
      "  data[NomeColuna].loc[data[NomeColuna].isnull()] = 'Nulo'\n",
      "/tmp/ipykernel_33959/1026323354.py:2: SettingWithCopyWarning: \n",
      "A value is trying to be set on a copy of a slice from a DataFrame\n",
      "\n",
      "See the caveats in the documentation: https://pandas.pydata.org/pandas-docs/stable/user_guide/indexing.html#returning-a-view-versus-a-copy\n",
      "  data[NomeColuna].loc[data[NomeColuna].isnull()] = 'Nulo'\n"
     ]
    }
   ],
   "source": [
    "for NomeColuna in data.columns.to_list():\n",
    "    data[NomeColuna].loc[data[NomeColuna].isnull()] = 'Nulo'"
   ]
  },
  {
   "cell_type": "markdown",
   "metadata": {},
   "source": [
    "\n",
    "\n",
    "'valor de mercado mi'\n",
    "'receita mil'\n",
    "lucro mil\n",
    "mil de ativos\n",
    "funcionários"
   ]
  },
  {
   "cell_type": "code",
   "execution_count": 6,
   "metadata": {},
   "outputs": [],
   "source": [
    "data.columns = [\n",
    "    'nome',\n",
    "    'rank',\n",
    "    'ano',\n",
    "    'industria',\n",
    "    'setor',\n",
    "    'sede_estado', \n",
    "    'sede_cidade',\n",
    "    'valor_de_mercado_mi',\n",
    "    'receite_mil',\n",
    "    'lucro_mil',\n",
    "    'ativos_mil',\n",
    "    'funcionários',\n",
    "    'fundador_is_ceo',\n",
    "    'ceo_feminino',\n",
    "    'recém-chegado à Fortune 500',\n",
    "    'global_500'\n",
    "]"
   ]
  },
  {
   "cell_type": "code",
   "execution_count": 7,
   "metadata": {},
   "outputs": [
    {
     "data": {
      "text/html": [
       "<div>\n",
       "<style scoped>\n",
       "    .dataframe tbody tr th:only-of-type {\n",
       "        vertical-align: middle;\n",
       "    }\n",
       "\n",
       "    .dataframe tbody tr th {\n",
       "        vertical-align: top;\n",
       "    }\n",
       "\n",
       "    .dataframe thead th {\n",
       "        text-align: right;\n",
       "    }\n",
       "</style>\n",
       "<table border=\"1\" class=\"dataframe\">\n",
       "  <thead>\n",
       "    <tr style=\"text-align: right;\">\n",
       "      <th></th>\n",
       "      <th>nome</th>\n",
       "      <th>rank</th>\n",
       "      <th>ano</th>\n",
       "      <th>industria</th>\n",
       "      <th>setor</th>\n",
       "      <th>sede_estado</th>\n",
       "      <th>sede_cidade</th>\n",
       "      <th>valor_de_mercado_mi</th>\n",
       "      <th>receite_mil</th>\n",
       "      <th>lucro_mil</th>\n",
       "      <th>ativos_mil</th>\n",
       "      <th>funcionários</th>\n",
       "      <th>fundador_is_ceo</th>\n",
       "      <th>ceo_feminino</th>\n",
       "      <th>recém-chegado à Fortune 500</th>\n",
       "      <th>global_500</th>\n",
       "    </tr>\n",
       "  </thead>\n",
       "  <tbody>\n",
       "    <tr>\n",
       "      <th>0</th>\n",
       "      <td>General Motors Corporation</td>\n",
       "      <td>1</td>\n",
       "      <td>1996</td>\n",
       "      <td>Motor Vehicles &amp; Parts</td>\n",
       "      <td>Nulo</td>\n",
       "      <td>MI</td>\n",
       "      <td>Nulo</td>\n",
       "      <td>Nulo</td>\n",
       "      <td>168828.6</td>\n",
       "      <td>Nulo</td>\n",
       "      <td>Nulo</td>\n",
       "      <td>Nulo</td>\n",
       "      <td>Nulo</td>\n",
       "      <td>Nulo</td>\n",
       "      <td>Nulo</td>\n",
       "      <td>Nulo</td>\n",
       "    </tr>\n",
       "    <tr>\n",
       "      <th>1</th>\n",
       "      <td>Ford Motor Company</td>\n",
       "      <td>2</td>\n",
       "      <td>1996</td>\n",
       "      <td>Motor Vehicles &amp; Parts</td>\n",
       "      <td>Nulo</td>\n",
       "      <td>MI</td>\n",
       "      <td>Nulo</td>\n",
       "      <td>Nulo</td>\n",
       "      <td>137137.0</td>\n",
       "      <td>Nulo</td>\n",
       "      <td>Nulo</td>\n",
       "      <td>Nulo</td>\n",
       "      <td>Nulo</td>\n",
       "      <td>Nulo</td>\n",
       "      <td>Nulo</td>\n",
       "      <td>Nulo</td>\n",
       "    </tr>\n",
       "    <tr>\n",
       "      <th>2</th>\n",
       "      <td>Exxon Corporation</td>\n",
       "      <td>3</td>\n",
       "      <td>1996</td>\n",
       "      <td>Petroleum Refining</td>\n",
       "      <td>Nulo</td>\n",
       "      <td>TX</td>\n",
       "      <td>Nulo</td>\n",
       "      <td>Nulo</td>\n",
       "      <td>110009.0</td>\n",
       "      <td>Nulo</td>\n",
       "      <td>Nulo</td>\n",
       "      <td>Nulo</td>\n",
       "      <td>Nulo</td>\n",
       "      <td>Nulo</td>\n",
       "      <td>Nulo</td>\n",
       "      <td>Nulo</td>\n",
       "    </tr>\n",
       "    <tr>\n",
       "      <th>3</th>\n",
       "      <td>Wal-Mart Stores, Inc.</td>\n",
       "      <td>4</td>\n",
       "      <td>1996</td>\n",
       "      <td>General Merchandisers</td>\n",
       "      <td>Nulo</td>\n",
       "      <td>AR</td>\n",
       "      <td>Nulo</td>\n",
       "      <td>Nulo</td>\n",
       "      <td>93627.0</td>\n",
       "      <td>Nulo</td>\n",
       "      <td>Nulo</td>\n",
       "      <td>Nulo</td>\n",
       "      <td>Nulo</td>\n",
       "      <td>Nulo</td>\n",
       "      <td>Nulo</td>\n",
       "      <td>Nulo</td>\n",
       "    </tr>\n",
       "    <tr>\n",
       "      <th>4</th>\n",
       "      <td>AT&amp;T Corp.</td>\n",
       "      <td>5</td>\n",
       "      <td>1996</td>\n",
       "      <td>Telecommunications</td>\n",
       "      <td>Nulo</td>\n",
       "      <td>NY</td>\n",
       "      <td>Nulo</td>\n",
       "      <td>Nulo</td>\n",
       "      <td>79609.0</td>\n",
       "      <td>Nulo</td>\n",
       "      <td>Nulo</td>\n",
       "      <td>Nulo</td>\n",
       "      <td>Nulo</td>\n",
       "      <td>Nulo</td>\n",
       "      <td>Nulo</td>\n",
       "      <td>Nulo</td>\n",
       "    </tr>\n",
       "  </tbody>\n",
       "</table>\n",
       "</div>"
      ],
      "text/plain": [
       "                         nome rank   ano               industria setor  \\\n",
       "0  General Motors Corporation    1  1996  Motor Vehicles & Parts  Nulo   \n",
       "1          Ford Motor Company    2  1996  Motor Vehicles & Parts  Nulo   \n",
       "2           Exxon Corporation    3  1996      Petroleum Refining  Nulo   \n",
       "3       Wal-Mart Stores, Inc.    4  1996   General Merchandisers  Nulo   \n",
       "4                  AT&T Corp.    5  1996      Telecommunications  Nulo   \n",
       "\n",
       "  sede_estado sede_cidade valor_de_mercado_mi receite_mil lucro_mil  \\\n",
       "0          MI        Nulo                Nulo    168828.6      Nulo   \n",
       "1          MI        Nulo                Nulo    137137.0      Nulo   \n",
       "2          TX        Nulo                Nulo    110009.0      Nulo   \n",
       "3          AR        Nulo                Nulo     93627.0      Nulo   \n",
       "4          NY        Nulo                Nulo     79609.0      Nulo   \n",
       "\n",
       "  ativos_mil funcionários fundador_is_ceo ceo_feminino  \\\n",
       "0       Nulo         Nulo            Nulo         Nulo   \n",
       "1       Nulo         Nulo            Nulo         Nulo   \n",
       "2       Nulo         Nulo            Nulo         Nulo   \n",
       "3       Nulo         Nulo            Nulo         Nulo   \n",
       "4       Nulo         Nulo            Nulo         Nulo   \n",
       "\n",
       "  recém-chegado à Fortune 500 global_500  \n",
       "0                        Nulo       Nulo  \n",
       "1                        Nulo       Nulo  \n",
       "2                        Nulo       Nulo  \n",
       "3                        Nulo       Nulo  \n",
       "4                        Nulo       Nulo  "
      ]
     },
     "execution_count": 7,
     "metadata": {},
     "output_type": "execute_result"
    }
   ],
   "source": [
    "data.head(5)"
   ]
  },
  {
   "cell_type": "markdown",
   "metadata": {},
   "source": [
    "# Analisando dados"
   ]
  },
  {
   "cell_type": "code",
   "execution_count": 8,
   "metadata": {},
   "outputs": [
    {
     "data": {
      "text/html": [
       "<div>\n",
       "<style scoped>\n",
       "    .dataframe tbody tr th:only-of-type {\n",
       "        vertical-align: middle;\n",
       "    }\n",
       "\n",
       "    .dataframe tbody tr th {\n",
       "        vertical-align: top;\n",
       "    }\n",
       "\n",
       "    .dataframe thead th {\n",
       "        text-align: right;\n",
       "    }\n",
       "</style>\n",
       "<table border=\"1\" class=\"dataframe\">\n",
       "  <thead>\n",
       "    <tr style=\"text-align: right;\">\n",
       "      <th></th>\n",
       "      <th>nome</th>\n",
       "      <th>rank</th>\n",
       "      <th>ano</th>\n",
       "      <th>industria</th>\n",
       "      <th>setor</th>\n",
       "      <th>sede_estado</th>\n",
       "      <th>sede_cidade</th>\n",
       "      <th>valor_de_mercado_mi</th>\n",
       "      <th>receite_mil</th>\n",
       "      <th>lucro_mil</th>\n",
       "      <th>ativos_mil</th>\n",
       "      <th>funcionários</th>\n",
       "      <th>fundador_is_ceo</th>\n",
       "      <th>ceo_feminino</th>\n",
       "      <th>recém-chegado à Fortune 500</th>\n",
       "      <th>global_500</th>\n",
       "    </tr>\n",
       "  </thead>\n",
       "  <tbody>\n",
       "    <tr>\n",
       "      <th>9440</th>\n",
       "      <td>Walmart</td>\n",
       "      <td>1</td>\n",
       "      <td>2015</td>\n",
       "      <td>General Merchandisers</td>\n",
       "      <td>Retailing</td>\n",
       "      <td>AR</td>\n",
       "      <td>Bentonville</td>\n",
       "      <td>265344.0</td>\n",
       "      <td>485651.0</td>\n",
       "      <td>16363.0</td>\n",
       "      <td>203706.0</td>\n",
       "      <td>2200000.0</td>\n",
       "      <td>no</td>\n",
       "      <td>no</td>\n",
       "      <td>no</td>\n",
       "      <td>Nulo</td>\n",
       "    </tr>\n",
       "    <tr>\n",
       "      <th>9441</th>\n",
       "      <td>Exxon Mobil</td>\n",
       "      <td>2</td>\n",
       "      <td>2015</td>\n",
       "      <td>Petroleum Refining</td>\n",
       "      <td>Energy</td>\n",
       "      <td>TX</td>\n",
       "      <td>Irving</td>\n",
       "      <td>356549.0</td>\n",
       "      <td>382597.0</td>\n",
       "      <td>32520.0</td>\n",
       "      <td>349493.0</td>\n",
       "      <td>83700.0</td>\n",
       "      <td>no</td>\n",
       "      <td>no</td>\n",
       "      <td>no</td>\n",
       "      <td>Nulo</td>\n",
       "    </tr>\n",
       "    <tr>\n",
       "      <th>9442</th>\n",
       "      <td>Chevron</td>\n",
       "      <td>3</td>\n",
       "      <td>2015</td>\n",
       "      <td>Petroleum Refining</td>\n",
       "      <td>Energy</td>\n",
       "      <td>CA</td>\n",
       "      <td>San Ramon</td>\n",
       "      <td>197381.0</td>\n",
       "      <td>203784.0</td>\n",
       "      <td>19241.0</td>\n",
       "      <td>266026.0</td>\n",
       "      <td>64700.0</td>\n",
       "      <td>no</td>\n",
       "      <td>no</td>\n",
       "      <td>no</td>\n",
       "      <td>Nulo</td>\n",
       "    </tr>\n",
       "    <tr>\n",
       "      <th>9443</th>\n",
       "      <td>Berkshire Hathaway</td>\n",
       "      <td>4</td>\n",
       "      <td>2015</td>\n",
       "      <td>Insurance: Property and Casualty (Stock)</td>\n",
       "      <td>Financials</td>\n",
       "      <td>NE</td>\n",
       "      <td>Omaha</td>\n",
       "      <td>357344.0</td>\n",
       "      <td>194673.0</td>\n",
       "      <td>19872.0</td>\n",
       "      <td>526186.0</td>\n",
       "      <td>316000.0</td>\n",
       "      <td>no</td>\n",
       "      <td>no</td>\n",
       "      <td>no</td>\n",
       "      <td>Nulo</td>\n",
       "    </tr>\n",
       "    <tr>\n",
       "      <th>9444</th>\n",
       "      <td>Apple</td>\n",
       "      <td>5</td>\n",
       "      <td>2015</td>\n",
       "      <td>Computers, Office Equipment</td>\n",
       "      <td>Technology</td>\n",
       "      <td>CA</td>\n",
       "      <td>Cupertino</td>\n",
       "      <td>724773.0</td>\n",
       "      <td>182795.0</td>\n",
       "      <td>39510.0</td>\n",
       "      <td>231839.0</td>\n",
       "      <td>97200.0</td>\n",
       "      <td>no</td>\n",
       "      <td>no</td>\n",
       "      <td>no</td>\n",
       "      <td>Nulo</td>\n",
       "    </tr>\n",
       "    <tr>\n",
       "      <th>...</th>\n",
       "      <td>...</td>\n",
       "      <td>...</td>\n",
       "      <td>...</td>\n",
       "      <td>...</td>\n",
       "      <td>...</td>\n",
       "      <td>...</td>\n",
       "      <td>...</td>\n",
       "      <td>...</td>\n",
       "      <td>...</td>\n",
       "      <td>...</td>\n",
       "      <td>...</td>\n",
       "      <td>...</td>\n",
       "      <td>...</td>\n",
       "      <td>...</td>\n",
       "      <td>...</td>\n",
       "      <td>...</td>\n",
       "    </tr>\n",
       "    <tr>\n",
       "      <th>13935</th>\n",
       "      <td>KKR</td>\n",
       "      <td>496</td>\n",
       "      <td>2023</td>\n",
       "      <td>Securities</td>\n",
       "      <td>Financials</td>\n",
       "      <td>NY</td>\n",
       "      <td>New York</td>\n",
       "      <td>45225.0</td>\n",
       "      <td>7273.0</td>\n",
       "      <td>841.0</td>\n",
       "      <td>277077.0</td>\n",
       "      <td>4150.0</td>\n",
       "      <td>no</td>\n",
       "      <td>no</td>\n",
       "      <td>no</td>\n",
       "      <td>no</td>\n",
       "    </tr>\n",
       "    <tr>\n",
       "      <th>13936</th>\n",
       "      <td>Equinix</td>\n",
       "      <td>497</td>\n",
       "      <td>2023</td>\n",
       "      <td>Real Estate</td>\n",
       "      <td>Financials</td>\n",
       "      <td>CA</td>\n",
       "      <td>Redwood City</td>\n",
       "      <td>66873.0</td>\n",
       "      <td>7263.0</td>\n",
       "      <td>704.0</td>\n",
       "      <td>30311.0</td>\n",
       "      <td>12097.0</td>\n",
       "      <td>no</td>\n",
       "      <td>no</td>\n",
       "      <td>no</td>\n",
       "      <td>no</td>\n",
       "    </tr>\n",
       "    <tr>\n",
       "      <th>13937</th>\n",
       "      <td>Sonoco Products</td>\n",
       "      <td>498</td>\n",
       "      <td>2023</td>\n",
       "      <td>Packaging, Containers</td>\n",
       "      <td>Materials</td>\n",
       "      <td>SC</td>\n",
       "      <td>Hartsville</td>\n",
       "      <td>5975.0</td>\n",
       "      <td>7251.0</td>\n",
       "      <td>466.0</td>\n",
       "      <td>7053.0</td>\n",
       "      <td>22000.0</td>\n",
       "      <td>no</td>\n",
       "      <td>no</td>\n",
       "      <td>yes</td>\n",
       "      <td>no</td>\n",
       "    </tr>\n",
       "    <tr>\n",
       "      <th>13938</th>\n",
       "      <td>ServiceNow</td>\n",
       "      <td>499</td>\n",
       "      <td>2023</td>\n",
       "      <td>Computer Software</td>\n",
       "      <td>Technology</td>\n",
       "      <td>CA</td>\n",
       "      <td>Santa Clara</td>\n",
       "      <td>94338.0</td>\n",
       "      <td>7245.0</td>\n",
       "      <td>325.0</td>\n",
       "      <td>13299.0</td>\n",
       "      <td>20433.0</td>\n",
       "      <td>no</td>\n",
       "      <td>no</td>\n",
       "      <td>yes</td>\n",
       "      <td>no</td>\n",
       "    </tr>\n",
       "    <tr>\n",
       "      <th>13939</th>\n",
       "      <td>Robert Half International</td>\n",
       "      <td>500</td>\n",
       "      <td>2023</td>\n",
       "      <td>Temporary Help</td>\n",
       "      <td>Business Services</td>\n",
       "      <td>CA</td>\n",
       "      <td>Menlo Park</td>\n",
       "      <td>8677.0</td>\n",
       "      <td>7238.0</td>\n",
       "      <td>658.0</td>\n",
       "      <td>2965.0</td>\n",
       "      <td>16300.0</td>\n",
       "      <td>no</td>\n",
       "      <td>no</td>\n",
       "      <td>no</td>\n",
       "      <td>no</td>\n",
       "    </tr>\n",
       "  </tbody>\n",
       "</table>\n",
       "<p>4500 rows × 16 columns</p>\n",
       "</div>"
      ],
      "text/plain": [
       "                            nome rank   ano  \\\n",
       "9440                     Walmart    1  2015   \n",
       "9441                 Exxon Mobil    2  2015   \n",
       "9442                     Chevron    3  2015   \n",
       "9443          Berkshire Hathaway    4  2015   \n",
       "9444                       Apple    5  2015   \n",
       "...                          ...  ...   ...   \n",
       "13935                        KKR  496  2023   \n",
       "13936                    Equinix  497  2023   \n",
       "13937            Sonoco Products  498  2023   \n",
       "13938                 ServiceNow  499  2023   \n",
       "13939  Robert Half International  500  2023   \n",
       "\n",
       "                                      industria              setor  \\\n",
       "9440                      General Merchandisers          Retailing   \n",
       "9441                         Petroleum Refining             Energy   \n",
       "9442                         Petroleum Refining             Energy   \n",
       "9443   Insurance: Property and Casualty (Stock)         Financials   \n",
       "9444                Computers, Office Equipment         Technology   \n",
       "...                                         ...                ...   \n",
       "13935                                Securities         Financials   \n",
       "13936                               Real Estate         Financials   \n",
       "13937                     Packaging, Containers          Materials   \n",
       "13938                         Computer Software         Technology   \n",
       "13939                            Temporary Help  Business Services   \n",
       "\n",
       "      sede_estado   sede_cidade valor_de_mercado_mi receite_mil lucro_mil  \\\n",
       "9440           AR   Bentonville            265344.0    485651.0   16363.0   \n",
       "9441           TX        Irving            356549.0    382597.0   32520.0   \n",
       "9442           CA     San Ramon            197381.0    203784.0   19241.0   \n",
       "9443           NE         Omaha            357344.0    194673.0   19872.0   \n",
       "9444           CA     Cupertino            724773.0    182795.0   39510.0   \n",
       "...           ...           ...                 ...         ...       ...   \n",
       "13935          NY      New York             45225.0      7273.0     841.0   \n",
       "13936          CA  Redwood City             66873.0      7263.0     704.0   \n",
       "13937          SC    Hartsville              5975.0      7251.0     466.0   \n",
       "13938          CA   Santa Clara             94338.0      7245.0     325.0   \n",
       "13939          CA    Menlo Park              8677.0      7238.0     658.0   \n",
       "\n",
       "      ativos_mil funcionários fundador_is_ceo ceo_feminino  \\\n",
       "9440    203706.0    2200000.0              no           no   \n",
       "9441    349493.0      83700.0              no           no   \n",
       "9442    266026.0      64700.0              no           no   \n",
       "9443    526186.0     316000.0              no           no   \n",
       "9444    231839.0      97200.0              no           no   \n",
       "...          ...          ...             ...          ...   \n",
       "13935   277077.0       4150.0              no           no   \n",
       "13936    30311.0      12097.0              no           no   \n",
       "13937     7053.0      22000.0              no           no   \n",
       "13938    13299.0      20433.0              no           no   \n",
       "13939     2965.0      16300.0              no           no   \n",
       "\n",
       "      recém-chegado à Fortune 500 global_500  \n",
       "9440                           no       Nulo  \n",
       "9441                           no       Nulo  \n",
       "9442                           no       Nulo  \n",
       "9443                           no       Nulo  \n",
       "9444                           no       Nulo  \n",
       "...                           ...        ...  \n",
       "13935                          no         no  \n",
       "13936                          no         no  \n",
       "13937                         yes         no  \n",
       "13938                         yes         no  \n",
       "13939                          no         no  \n",
       "\n",
       "[4500 rows x 16 columns]"
      ]
     },
     "execution_count": 8,
     "metadata": {},
     "output_type": "execute_result"
    }
   ],
   "source": [
    "data.loc[data['setor']!='Nulo']"
   ]
  },
  {
   "cell_type": "code",
   "execution_count": 9,
   "metadata": {},
   "outputs": [
    {
     "data": {
      "text/plain": [
       "setor\n",
       "Nulo                             9440\n",
       "Financials                        777\n",
       "Energy                            547\n",
       "Retailing                         422\n",
       "Technology                        393\n",
       "Health Care                       368\n",
       "Food, Beverages & Tobacco         223\n",
       "Wholesalers                       210\n",
       "Materials                         177\n",
       "Business Services                 169\n",
       "Transportation                    158\n",
       "Industrials                       155\n",
       "Chemicals                         125\n",
       "Engineering & Construction        112\n",
       "Household Products                103\n",
       "Motor Vehicles & Parts            100\n",
       "Aerospace & Defense                96\n",
       "Media                              93\n",
       "Hotels, Restaurants & Leisure      89\n",
       "Telecommunications                 81\n",
       "Food & Drug Stores                 55\n",
       "Apparel                            47\n",
       "Name: count, dtype: int64"
      ]
     },
     "execution_count": 9,
     "metadata": {},
     "output_type": "execute_result"
    }
   ],
   "source": [
    "data['setor'].value_counts()"
   ]
  },
  {
   "cell_type": "code",
   "execution_count": 10,
   "metadata": {},
   "outputs": [
    {
     "data": {
      "text/plain": [
       "industria\n",
       "Utilities: Gas and Electric                 753\n",
       "Commercial Banks                            590\n",
       "Insurance: Property and Casualty (Stock)    497\n",
       "Chemicals                                   420\n",
       "Motor Vehicles & Parts                      385\n",
       "                                           ... \n",
       "Payroll Services                              5\n",
       "X Brokerage                                   5\n",
       "Equipment Leasing                             4\n",
       "Education                                     3\n",
       "Marine services                               2\n",
       "Name: count, Length: 94, dtype: int64"
      ]
     },
     "execution_count": 10,
     "metadata": {},
     "output_type": "execute_result"
    }
   ],
   "source": [
    "data['industria'].value_counts()"
   ]
  },
  {
   "cell_type": "markdown",
   "metadata": {},
   "source": [
    "# Em relação ao setor"
   ]
  },
  {
   "cell_type": "code",
   "execution_count": 11,
   "metadata": {},
   "outputs": [],
   "source": [
    "dataSetor = data.loc[data['setor']!='Nulo']"
   ]
  },
  {
   "cell_type": "code",
   "execution_count": 12,
   "metadata": {},
   "outputs": [
    {
     "data": {
      "text/plain": [
       "setor\n",
       "Aerospace & Defense               7732717.0\n",
       "Apparel                           2119897.0\n",
       "Business Services                 8003821.0\n",
       "Chemicals                         3527178.0\n",
       "Energy                            7806411.0\n",
       "Engineering & Construction        2976879.0\n",
       "Financials                       28982446.0\n",
       "Food & Drug Stores               11567085.0\n",
       "Food, Beverages & Tobacco         9194266.0\n",
       "Health Care                      22670724.0\n",
       "Hotels, Restaurants & Leisure    14944879.0\n",
       "Household Products                4110744.0\n",
       "Industrials                       9937615.0\n",
       "Materials                         3899012.0\n",
       "Media                             3299604.0\n",
       "Motor Vehicles & Parts            8224145.0\n",
       "Retailing                        57879321.0\n",
       "Technology                       26642366.0\n",
       "Telecommunications                6719065.0\n",
       "Transportation                   12935520.0\n",
       "Wholesalers                       4973951.0\n",
       "Name: funcionários, dtype: object"
      ]
     },
     "execution_count": 12,
     "metadata": {},
     "output_type": "execute_result"
    }
   ],
   "source": [
    "dataSetor.groupby('setor')['funcionários'].sum()"
   ]
  },
  {
   "cell_type": "code",
   "execution_count": 13,
   "metadata": {},
   "outputs": [
    {
     "data": {
      "application/vnd.plotly.v1+json": {
       "config": {
        "plotlyServerURL": "https://plot.ly"
       },
       "data": [
        {
         "domain": {
          "x": [
           0,
           1
          ],
          "y": [
           0,
           1
          ]
         },
         "hovertemplate": "value=%{value}<extra></extra>",
         "legendgroup": "",
         "name": "",
         "showlegend": false,
         "type": "pie",
         "values": [
          7732717,
          2119897,
          8003821,
          3527178,
          7806411,
          2976879,
          28982446,
          11567085,
          9194266,
          22670724,
          14944879,
          4110744,
          9937615,
          3899012,
          3299604,
          8224145,
          57879321,
          26642366,
          6719065,
          12935520,
          4973951
         ]
        }
       ],
       "layout": {
        "legend": {
         "tracegroupgap": 0
        },
        "margin": {
         "t": 60
        },
        "template": {
         "data": {
          "bar": [
           {
            "error_x": {
             "color": "#2a3f5f"
            },
            "error_y": {
             "color": "#2a3f5f"
            },
            "marker": {
             "line": {
              "color": "#E5ECF6",
              "width": 0.5
             },
             "pattern": {
              "fillmode": "overlay",
              "size": 10,
              "solidity": 0.2
             }
            },
            "type": "bar"
           }
          ],
          "barpolar": [
           {
            "marker": {
             "line": {
              "color": "#E5ECF6",
              "width": 0.5
             },
             "pattern": {
              "fillmode": "overlay",
              "size": 10,
              "solidity": 0.2
             }
            },
            "type": "barpolar"
           }
          ],
          "carpet": [
           {
            "aaxis": {
             "endlinecolor": "#2a3f5f",
             "gridcolor": "white",
             "linecolor": "white",
             "minorgridcolor": "white",
             "startlinecolor": "#2a3f5f"
            },
            "baxis": {
             "endlinecolor": "#2a3f5f",
             "gridcolor": "white",
             "linecolor": "white",
             "minorgridcolor": "white",
             "startlinecolor": "#2a3f5f"
            },
            "type": "carpet"
           }
          ],
          "choropleth": [
           {
            "colorbar": {
             "outlinewidth": 0,
             "ticks": ""
            },
            "type": "choropleth"
           }
          ],
          "contour": [
           {
            "colorbar": {
             "outlinewidth": 0,
             "ticks": ""
            },
            "colorscale": [
             [
              0,
              "#0d0887"
             ],
             [
              0.1111111111111111,
              "#46039f"
             ],
             [
              0.2222222222222222,
              "#7201a8"
             ],
             [
              0.3333333333333333,
              "#9c179e"
             ],
             [
              0.4444444444444444,
              "#bd3786"
             ],
             [
              0.5555555555555556,
              "#d8576b"
             ],
             [
              0.6666666666666666,
              "#ed7953"
             ],
             [
              0.7777777777777778,
              "#fb9f3a"
             ],
             [
              0.8888888888888888,
              "#fdca26"
             ],
             [
              1,
              "#f0f921"
             ]
            ],
            "type": "contour"
           }
          ],
          "contourcarpet": [
           {
            "colorbar": {
             "outlinewidth": 0,
             "ticks": ""
            },
            "type": "contourcarpet"
           }
          ],
          "heatmap": [
           {
            "colorbar": {
             "outlinewidth": 0,
             "ticks": ""
            },
            "colorscale": [
             [
              0,
              "#0d0887"
             ],
             [
              0.1111111111111111,
              "#46039f"
             ],
             [
              0.2222222222222222,
              "#7201a8"
             ],
             [
              0.3333333333333333,
              "#9c179e"
             ],
             [
              0.4444444444444444,
              "#bd3786"
             ],
             [
              0.5555555555555556,
              "#d8576b"
             ],
             [
              0.6666666666666666,
              "#ed7953"
             ],
             [
              0.7777777777777778,
              "#fb9f3a"
             ],
             [
              0.8888888888888888,
              "#fdca26"
             ],
             [
              1,
              "#f0f921"
             ]
            ],
            "type": "heatmap"
           }
          ],
          "heatmapgl": [
           {
            "colorbar": {
             "outlinewidth": 0,
             "ticks": ""
            },
            "colorscale": [
             [
              0,
              "#0d0887"
             ],
             [
              0.1111111111111111,
              "#46039f"
             ],
             [
              0.2222222222222222,
              "#7201a8"
             ],
             [
              0.3333333333333333,
              "#9c179e"
             ],
             [
              0.4444444444444444,
              "#bd3786"
             ],
             [
              0.5555555555555556,
              "#d8576b"
             ],
             [
              0.6666666666666666,
              "#ed7953"
             ],
             [
              0.7777777777777778,
              "#fb9f3a"
             ],
             [
              0.8888888888888888,
              "#fdca26"
             ],
             [
              1,
              "#f0f921"
             ]
            ],
            "type": "heatmapgl"
           }
          ],
          "histogram": [
           {
            "marker": {
             "pattern": {
              "fillmode": "overlay",
              "size": 10,
              "solidity": 0.2
             }
            },
            "type": "histogram"
           }
          ],
          "histogram2d": [
           {
            "colorbar": {
             "outlinewidth": 0,
             "ticks": ""
            },
            "colorscale": [
             [
              0,
              "#0d0887"
             ],
             [
              0.1111111111111111,
              "#46039f"
             ],
             [
              0.2222222222222222,
              "#7201a8"
             ],
             [
              0.3333333333333333,
              "#9c179e"
             ],
             [
              0.4444444444444444,
              "#bd3786"
             ],
             [
              0.5555555555555556,
              "#d8576b"
             ],
             [
              0.6666666666666666,
              "#ed7953"
             ],
             [
              0.7777777777777778,
              "#fb9f3a"
             ],
             [
              0.8888888888888888,
              "#fdca26"
             ],
             [
              1,
              "#f0f921"
             ]
            ],
            "type": "histogram2d"
           }
          ],
          "histogram2dcontour": [
           {
            "colorbar": {
             "outlinewidth": 0,
             "ticks": ""
            },
            "colorscale": [
             [
              0,
              "#0d0887"
             ],
             [
              0.1111111111111111,
              "#46039f"
             ],
             [
              0.2222222222222222,
              "#7201a8"
             ],
             [
              0.3333333333333333,
              "#9c179e"
             ],
             [
              0.4444444444444444,
              "#bd3786"
             ],
             [
              0.5555555555555556,
              "#d8576b"
             ],
             [
              0.6666666666666666,
              "#ed7953"
             ],
             [
              0.7777777777777778,
              "#fb9f3a"
             ],
             [
              0.8888888888888888,
              "#fdca26"
             ],
             [
              1,
              "#f0f921"
             ]
            ],
            "type": "histogram2dcontour"
           }
          ],
          "mesh3d": [
           {
            "colorbar": {
             "outlinewidth": 0,
             "ticks": ""
            },
            "type": "mesh3d"
           }
          ],
          "parcoords": [
           {
            "line": {
             "colorbar": {
              "outlinewidth": 0,
              "ticks": ""
             }
            },
            "type": "parcoords"
           }
          ],
          "pie": [
           {
            "automargin": true,
            "type": "pie"
           }
          ],
          "scatter": [
           {
            "fillpattern": {
             "fillmode": "overlay",
             "size": 10,
             "solidity": 0.2
            },
            "type": "scatter"
           }
          ],
          "scatter3d": [
           {
            "line": {
             "colorbar": {
              "outlinewidth": 0,
              "ticks": ""
             }
            },
            "marker": {
             "colorbar": {
              "outlinewidth": 0,
              "ticks": ""
             }
            },
            "type": "scatter3d"
           }
          ],
          "scattercarpet": [
           {
            "marker": {
             "colorbar": {
              "outlinewidth": 0,
              "ticks": ""
             }
            },
            "type": "scattercarpet"
           }
          ],
          "scattergeo": [
           {
            "marker": {
             "colorbar": {
              "outlinewidth": 0,
              "ticks": ""
             }
            },
            "type": "scattergeo"
           }
          ],
          "scattergl": [
           {
            "marker": {
             "colorbar": {
              "outlinewidth": 0,
              "ticks": ""
             }
            },
            "type": "scattergl"
           }
          ],
          "scattermapbox": [
           {
            "marker": {
             "colorbar": {
              "outlinewidth": 0,
              "ticks": ""
             }
            },
            "type": "scattermapbox"
           }
          ],
          "scatterpolar": [
           {
            "marker": {
             "colorbar": {
              "outlinewidth": 0,
              "ticks": ""
             }
            },
            "type": "scatterpolar"
           }
          ],
          "scatterpolargl": [
           {
            "marker": {
             "colorbar": {
              "outlinewidth": 0,
              "ticks": ""
             }
            },
            "type": "scatterpolargl"
           }
          ],
          "scatterternary": [
           {
            "marker": {
             "colorbar": {
              "outlinewidth": 0,
              "ticks": ""
             }
            },
            "type": "scatterternary"
           }
          ],
          "surface": [
           {
            "colorbar": {
             "outlinewidth": 0,
             "ticks": ""
            },
            "colorscale": [
             [
              0,
              "#0d0887"
             ],
             [
              0.1111111111111111,
              "#46039f"
             ],
             [
              0.2222222222222222,
              "#7201a8"
             ],
             [
              0.3333333333333333,
              "#9c179e"
             ],
             [
              0.4444444444444444,
              "#bd3786"
             ],
             [
              0.5555555555555556,
              "#d8576b"
             ],
             [
              0.6666666666666666,
              "#ed7953"
             ],
             [
              0.7777777777777778,
              "#fb9f3a"
             ],
             [
              0.8888888888888888,
              "#fdca26"
             ],
             [
              1,
              "#f0f921"
             ]
            ],
            "type": "surface"
           }
          ],
          "table": [
           {
            "cells": {
             "fill": {
              "color": "#EBF0F8"
             },
             "line": {
              "color": "white"
             }
            },
            "header": {
             "fill": {
              "color": "#C8D4E3"
             },
             "line": {
              "color": "white"
             }
            },
            "type": "table"
           }
          ]
         },
         "layout": {
          "annotationdefaults": {
           "arrowcolor": "#2a3f5f",
           "arrowhead": 0,
           "arrowwidth": 1
          },
          "autotypenumbers": "strict",
          "coloraxis": {
           "colorbar": {
            "outlinewidth": 0,
            "ticks": ""
           }
          },
          "colorscale": {
           "diverging": [
            [
             0,
             "#8e0152"
            ],
            [
             0.1,
             "#c51b7d"
            ],
            [
             0.2,
             "#de77ae"
            ],
            [
             0.3,
             "#f1b6da"
            ],
            [
             0.4,
             "#fde0ef"
            ],
            [
             0.5,
             "#f7f7f7"
            ],
            [
             0.6,
             "#e6f5d0"
            ],
            [
             0.7,
             "#b8e186"
            ],
            [
             0.8,
             "#7fbc41"
            ],
            [
             0.9,
             "#4d9221"
            ],
            [
             1,
             "#276419"
            ]
           ],
           "sequential": [
            [
             0,
             "#0d0887"
            ],
            [
             0.1111111111111111,
             "#46039f"
            ],
            [
             0.2222222222222222,
             "#7201a8"
            ],
            [
             0.3333333333333333,
             "#9c179e"
            ],
            [
             0.4444444444444444,
             "#bd3786"
            ],
            [
             0.5555555555555556,
             "#d8576b"
            ],
            [
             0.6666666666666666,
             "#ed7953"
            ],
            [
             0.7777777777777778,
             "#fb9f3a"
            ],
            [
             0.8888888888888888,
             "#fdca26"
            ],
            [
             1,
             "#f0f921"
            ]
           ],
           "sequentialminus": [
            [
             0,
             "#0d0887"
            ],
            [
             0.1111111111111111,
             "#46039f"
            ],
            [
             0.2222222222222222,
             "#7201a8"
            ],
            [
             0.3333333333333333,
             "#9c179e"
            ],
            [
             0.4444444444444444,
             "#bd3786"
            ],
            [
             0.5555555555555556,
             "#d8576b"
            ],
            [
             0.6666666666666666,
             "#ed7953"
            ],
            [
             0.7777777777777778,
             "#fb9f3a"
            ],
            [
             0.8888888888888888,
             "#fdca26"
            ],
            [
             1,
             "#f0f921"
            ]
           ]
          },
          "colorway": [
           "#636efa",
           "#EF553B",
           "#00cc96",
           "#ab63fa",
           "#FFA15A",
           "#19d3f3",
           "#FF6692",
           "#B6E880",
           "#FF97FF",
           "#FECB52"
          ],
          "font": {
           "color": "#2a3f5f"
          },
          "geo": {
           "bgcolor": "white",
           "lakecolor": "white",
           "landcolor": "#E5ECF6",
           "showlakes": true,
           "showland": true,
           "subunitcolor": "white"
          },
          "hoverlabel": {
           "align": "left"
          },
          "hovermode": "closest",
          "mapbox": {
           "style": "light"
          },
          "paper_bgcolor": "white",
          "plot_bgcolor": "#E5ECF6",
          "polar": {
           "angularaxis": {
            "gridcolor": "white",
            "linecolor": "white",
            "ticks": ""
           },
           "bgcolor": "#E5ECF6",
           "radialaxis": {
            "gridcolor": "white",
            "linecolor": "white",
            "ticks": ""
           }
          },
          "scene": {
           "xaxis": {
            "backgroundcolor": "#E5ECF6",
            "gridcolor": "white",
            "gridwidth": 2,
            "linecolor": "white",
            "showbackground": true,
            "ticks": "",
            "zerolinecolor": "white"
           },
           "yaxis": {
            "backgroundcolor": "#E5ECF6",
            "gridcolor": "white",
            "gridwidth": 2,
            "linecolor": "white",
            "showbackground": true,
            "ticks": "",
            "zerolinecolor": "white"
           },
           "zaxis": {
            "backgroundcolor": "#E5ECF6",
            "gridcolor": "white",
            "gridwidth": 2,
            "linecolor": "white",
            "showbackground": true,
            "ticks": "",
            "zerolinecolor": "white"
           }
          },
          "shapedefaults": {
           "line": {
            "color": "#2a3f5f"
           }
          },
          "ternary": {
           "aaxis": {
            "gridcolor": "white",
            "linecolor": "white",
            "ticks": ""
           },
           "baxis": {
            "gridcolor": "white",
            "linecolor": "white",
            "ticks": ""
           },
           "bgcolor": "#E5ECF6",
           "caxis": {
            "gridcolor": "white",
            "linecolor": "white",
            "ticks": ""
           }
          },
          "title": {
           "x": 0.05
          },
          "xaxis": {
           "automargin": true,
           "gridcolor": "white",
           "linecolor": "white",
           "ticks": "",
           "title": {
            "standoff": 15
           },
           "zerolinecolor": "white",
           "zerolinewidth": 2
          },
          "yaxis": {
           "automargin": true,
           "gridcolor": "white",
           "linecolor": "white",
           "ticks": "",
           "title": {
            "standoff": 15
           },
           "zerolinecolor": "white",
           "zerolinewidth": 2
          }
         }
        }
       }
      }
     },
     "metadata": {},
     "output_type": "display_data"
    }
   ],
   "source": [
    "dados = dataSetor.groupby('setor')['funcionários'].sum()\n",
    "fig = px.pie(values=dados.values,labels=dados.index.values)\n",
    "fig.show()"
   ]
  }
 ],
 "metadata": {
  "kernelspec": {
   "display_name": "venv",
   "language": "python",
   "name": "python3"
  },
  "language_info": {
   "codemirror_mode": {
    "name": "ipython",
    "version": 3
   },
   "file_extension": ".py",
   "mimetype": "text/x-python",
   "name": "python",
   "nbconvert_exporter": "python",
   "pygments_lexer": "ipython3",
   "version": "3.11.2"
  },
  "orig_nbformat": 4
 },
 "nbformat": 4,
 "nbformat_minor": 2
}
